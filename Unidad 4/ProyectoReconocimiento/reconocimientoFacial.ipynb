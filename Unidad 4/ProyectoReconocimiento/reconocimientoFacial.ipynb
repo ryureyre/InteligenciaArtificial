{
  "cells": [
    {
      "cell_type": "code",
      "execution_count": 6,
      "metadata": {
        "colab": {
          "base_uri": "https://localhost:8080/"
        },
        "id": "aCi5yt7ZyOme",
        "outputId": "46ebebe6-1cd1-4798-ca3d-7469f8c10cef"
      },
      "outputs": [
        {
          "name": "stdout",
          "output_type": "stream",
          "text": [
            "detectando\n",
            "YA detectando\n",
            "FIN\n"
          ]
        }
      ],
      "source": [
        "import cv2\n",
        "import os\n",
        "import imutils\n",
        "\n",
        "personName = 'Eliu'\n",
        "dataPath = '/content/drive/MyDrive/'\n",
        "personPath = dataPath + '/' + personName\n",
        "\n",
        "if not os.path.exists(personPath):\n",
        "    print('Carpeta creada: ',personPath)\n",
        "    os.makedirs(personPath)\n",
        "    \n",
        "#cap = cv2.VideoCapture(0)\n",
        "#cap = cv2.VideoCapture(0,cv2.CAP_DSHOW)\n",
        "cap = cv2.VideoCapture('video/miVideo.mp4')\n",
        "print('detectando')\n",
        "\n",
        "faceClassif = cv2.CascadeClassifier(cv2.data.haarcascades+'haarcascade_frontalface_default.xml')\n",
        "\n",
        "print('YA detectando')\n",
        "count = 0\n",
        "\n",
        "while True:\n",
        "\n",
        "    ret, frame = cap.read()\n",
        "    if ret == False: break\n",
        "    frame =  imutils.resize(frame, width=640)\n",
        "    gray = cv2.cvtColor(frame, cv2.COLOR_BGR2GRAY)\n",
        "    auxFrame = frame.copy()\n",
        "                                      \n",
        "    faces = faceClassif.detectMultiScale(gray,1.2,5)   #(image, scaleFactor, minNeighbors)\n",
        "\n",
        "    for (x,y,w,h) in faces:\n",
        "        cv2.rectangle(frame, (x,y),(x+w,y+h),(0,255,0),2)\n",
        "        rostro = auxFrame[y:y+h,x:x+w]\n",
        "        rostro = cv2.resize(rostro,(150,150),interpolation=cv2.INTER_CUBIC)\n",
        "        cv2.imwrite(personPath + '/rostro_{}.jpg'.format(count),rostro)\n",
        "        count = count + 1\n",
        "    cv2.imshow('frame',frame)\n",
        "    k =  cv2.waitKey(1)\n",
        "    if k == 27 or count >= 350:\n",
        "        break\n",
        "print('FIN')\n",
        "\n",
        "cap.release()\n",
        "cv2.destroyAllWindows()"
      ]
    },
    {
      "cell_type": "code",
      "execution_count": 12,
      "metadata": {
        "id": "J7uqPIIHZe7m"
      },
      "outputs": [],
      "source": [
        "import cv2\n",
        "import os\n",
        "\n",
        "imagesPath = \"rostros/\" # Cambia a la ruta donde hayas almacenado la carpeta con las imágenes\n",
        "imagesPathList = os.listdir(imagesPath)\n",
        "\n",
        "if not os.path.exists('rostros1/'):\n",
        "    print('Carpeta creada: Rostros1')\n",
        "    os.makedirs('rostros1/')\n",
        "\n",
        "faceClassif = cv2.CascadeClassifier(cv2.data.haarcascades+'haarcascade_frontalface_default.xml')\n",
        "\n",
        "count = 0\n",
        "for imageName in imagesPathList:\n",
        "    image = cv2.imread(imagesPath+'/'+imageName)\n",
        "    imageAux = image.copy()\n",
        "    gray = cv2.cvtColor(image, cv2.COLOR_BGR2GRAY)\n",
        "    \n",
        "    faces = faceClassif.detectMultiScale(gray, 1.2, 5)\n",
        "\n",
        "    for (x,y,w,h) in faces:\n",
        "        cv2.rectangle(image, (x,y),(x+w,y+h),(128,0,255),2)\n",
        "    cv2.rectangle(image,(10,5),(450,25),(255,255,255),-1)\n",
        "\n",
        "    for (x,y,w,h) in faces:\n",
        "            rostro = imageAux[y:y+h,x:x+w]\n",
        "            rostro = cv2.resize(rostro,(150,150), interpolation=cv2.INTER_CUBIC)\n",
        "            #cv2.imshow('rostro',rostro)\n",
        "            cv2.waitKey(0)\n",
        "            cv2.imwrite('rostros1/rostro_{}.jpg'.format(count),rostro)\n",
        "            count = count +1\n",
        "\n",
        "cv2.destroyAllWindows()"
      ]
    },
    {
      "attachments": {},
      "cell_type": "markdown",
      "metadata": {
        "id": "vQBWExtVBL-t"
      },
      "source": [
        "### XD\n"
      ]
    },
    {
      "cell_type": "code",
      "execution_count": 14,
      "metadata": {
        "colab": {
          "base_uri": "https://localhost:8080/"
        },
        "id": "AVHeQTongnT7",
        "outputId": "2e081bba-06af-46cb-a185-be92598f6b82"
      },
      "outputs": [
        {
          "name": "stdout",
          "output_type": "stream",
          "text": [
            "Total de imagenes:  392\n"
          ]
        }
      ],
      "source": [
        "from skimage.io import imread_collection , concatenate_images\n",
        "import numpy as np\n",
        "import matplotlib.pyplot as plt\n",
        "import copy  as cp\n",
        "import copy\n",
        "\n",
        "# path \n",
        "folderEliu = 'Eliu/*.jpg'\n",
        "folderOthers = 'rostros1/*.jpg'\n",
        "\n",
        "# load data \n",
        "imagesEliu = imread_collection(folderEliu)\n",
        "imagesOthers = imread_collection(folderOthers) \n",
        "\n",
        "# len\n",
        "nEliu  = len(imagesEliu)\n",
        "nOthers = len(imagesOthers)\n",
        "\n",
        "#HACER RANDOM Y PARA NO SESGASR EL MODELO \n",
        "#AUMENTAR DATOS A LA CLASE QUE FALTE PARA TENER IGUAL CANTIDAD Y NO DESBALANCEAR EL MODELO \n",
        "\n",
        "# union data\n",
        "images = np.append(imagesEliu, imagesOthers, axis=0)\n",
        "\n",
        "print(\"Total de imagenes: \",len(images))"
      ]
    },
    {
      "cell_type": "code",
      "execution_count": 15,
      "metadata": {
        "id": "RzlDd3Jh-BlO"
      },
      "outputs": [],
      "source": [
        "def Create_Y():\n",
        "     return [0]*nEliu + [1]*nOthers\n",
        "Y = Create_Y()\n",
        "\n",
        "Y = np.array(Y)\n",
        "X = np.array(images)"
      ]
    },
    {
      "cell_type": "code",
      "execution_count": 16,
      "metadata": {
        "id": "CEH2szaX-GHe"
      },
      "outputs": [],
      "source": [
        "from skimage.transform import resize\n",
        "X=resize(X,(len(images),64,64,3))"
      ]
    },
    {
      "cell_type": "code",
      "execution_count": 18,
      "metadata": {
        "id": "Ztlf4Ccv-Iux"
      },
      "outputs": [],
      "source": [
        "from keras.models import Sequential\n",
        "from keras.layers import Dense,Activation,Flatten,Dropout\n",
        "from keras.layers import Conv2D,MaxPooling2D\n",
        "from keras.callbacks import ModelCheckpoint\n",
        "\n",
        "modelo=Sequential() #Varias capas apiladas entre ellas\n",
        "\n",
        "modelo.add(Conv2D(200,(3,3),input_shape=X.shape[1:]))\n",
        "modelo.add(Activation('relu'))\n",
        "modelo.add(MaxPooling2D(pool_size=(2,2)))\n",
        "#La primera capa de CNN seguida por las capas de Relu y MaxPooling\n",
        "\n",
        "modelo.add(Conv2D(100,(3,3)))\n",
        "modelo.add(Activation('relu'))\n",
        "modelo.add(MaxPooling2D(pool_size=(2,2)))\n",
        "#La segunda capa de convolución seguida por las capas de Relu y MaxPooling\n",
        "\n",
        "modelo.add(Conv2D(50,(3,3)))\n",
        "modelo.add(Activation('relu'))\n",
        "modelo.add(MaxPooling2D(pool_size=(2,2)))\n",
        "#La tercera capa de convolución seguida por las capas de Relu y MaxPooling\n",
        "\n",
        "modelo.add(Flatten()) #Imagen profunda la vamos a hacer plana, es decir solo una dimension,\n",
        "#va tener toda nuestra informacion de la cnn\n",
        "\n",
        "modelo.add(Dropout(0.5)) # Apagamos 50% de las neuronas cada paso, asi evitamos sobreajustar\n",
        "#(evitar un solo camino de entrenamiento)\n",
        "\n",
        "modelo.add(Dense(50,activation='relu'))\n",
        "#Capa Densa de 50 neuronas\n",
        "\n",
        "modelo.add(Dense(2,activation='softmax')) #La capa final softmax con dos salidas para dos categorías\n",
        "#Softmax nos indica que tanta probabilidad tiene cada clase, y por ende saber cual tiene la maxima probabilidad\n",
        "\n",
        "modelo.compile(loss='categorical_crossentropy',optimizer='adam',metrics=['accuracy'])"
      ]
    },
    {
      "cell_type": "code",
      "execution_count": 19,
      "metadata": {
        "colab": {
          "base_uri": "https://localhost:8080/"
        },
        "id": "3DGnw3WH_-D8",
        "outputId": "53d0f5c1-1183-4e4b-f3f3-65162f39c18c"
      },
      "outputs": [
        {
          "data": {
            "text/plain": [
              "array([1., 0.], dtype=float32)"
            ]
          },
          "execution_count": 19,
          "metadata": {},
          "output_type": "execute_result"
        }
      ],
      "source": [
        "#Onehot Encoding the labels.\n",
        "from sklearn.utils.multiclass import unique_labels\n",
        "from keras.utils import to_categorical\n",
        "\n",
        "#Ya que tenemos 2 clases debemos esperar que shape[1] de y_train,y_val y y_test cambie de 0 a 1\n",
        "Y=to_categorical(Y)\n",
        "\n",
        "Y[0]"
      ]
    },
    {
      "cell_type": "code",
      "execution_count": 20,
      "metadata": {
        "colab": {
          "base_uri": "https://localhost:8080/"
        },
        "id": "i809CmWGAG_s",
        "outputId": "0359ab80-da9f-42e6-da28-d51e78b89d99"
      },
      "outputs": [
        {
          "data": {
            "text/plain": [
              "array([0., 1.], dtype=float32)"
            ]
          },
          "execution_count": 20,
          "metadata": {},
          "output_type": "execute_result"
        }
      ],
      "source": [
        "Y[len(Y)-1]"
      ]
    },
    {
      "cell_type": "code",
      "execution_count": 21,
      "metadata": {
        "id": "ijREogI2APD9"
      },
      "outputs": [],
      "source": [
        "from sklearn.model_selection import train_test_split\n",
        "\n",
        "X_train, X_test, Y_train, Y_test = train_test_split(X, Y, test_size = 0.30, random_state = 0)"
      ]
    },
    {
      "cell_type": "code",
      "execution_count": 22,
      "metadata": {
        "id": "z-qqa5bUAWSw"
      },
      "outputs": [],
      "source": [
        "checkpoint = ModelCheckpoint('CNN/model-{epoch:03d}.model',monitor='val_loss',verbose=0,save_best_only=True,mode='auto')"
      ]
    },
    {
      "cell_type": "code",
      "execution_count": null,
      "metadata": {
        "colab": {
          "base_uri": "https://localhost:8080/"
        },
        "id": "MG7HPVVtAXL3",
        "outputId": "7bd76545-b6c8-4e92-c887-eeda7b4a3746"
      },
      "outputs": [],
      "source": [
        "history=modelo.fit(X_train,Y_train,epochs=20,callbacks=[checkpoint],validation_split=0.2) #,shuffle = True)"
      ]
    },
    {
      "cell_type": "code",
      "execution_count": 24,
      "metadata": {
        "colab": {
          "base_uri": "https://localhost:8080/"
        },
        "id": "O3sAlda2AZq8",
        "outputId": "60a0e259-d40e-4ab0-e4b8-1132ddf1d023"
      },
      "outputs": [
        {
          "name": "stdout",
          "output_type": "stream",
          "text": [
            "4/4 [==============================] - 0s 58ms/step - loss: 0.0085 - accuracy: 1.0000\n",
            "[0.008468396961688995, 1.0]\n"
          ]
        }
      ],
      "source": [
        "print(modelo.evaluate(X_test,Y_test))"
      ]
    },
    {
      "cell_type": "code",
      "execution_count": 25,
      "metadata": {
        "id": "CjViYEYwAfbs"
      },
      "outputs": [],
      "source": [
        "#Defining function for confusion matrix plot\n",
        "def plot_confusion_matrix(y_true, y_pred, classes,\n",
        "                          normalize=False,\n",
        "                          title=None,\n",
        "                          cmap=plt.cm.Blues):\n",
        "    if not title:\n",
        "        if normalize:\n",
        "            title = 'Normalized confusion matrix'\n",
        "        else:\n",
        "            title = 'Confusion matrix, without normalization'\n",
        "\n",
        "    # Compute confusion matrix\n",
        "    cm = confusion_matrix(y_true, y_pred)\n",
        "    if normalize:\n",
        "        cm = cm.astype('float') / cm.sum(axis=1)[:, np.newaxis]\n",
        "        print(\"Normalized confusion matrix\")\n",
        "    else:\n",
        "        print('Confusion matrix, without normalization')\n",
        "\n",
        "#Print Confusion matrix\n",
        "    fig, ax = plt.subplots(figsize=(7,7))\n",
        "    im = ax.imshow(cm, interpolation='nearest', cmap=cmap)\n",
        "    ax.figure.colorbar(im, ax=ax)\n",
        "    # We want to show all ticks...\n",
        "    ax.set(xticks=np.arange(cm.shape[1]),\n",
        "           yticks=np.arange(cm.shape[0]),\n",
        "           xticklabels=classes, yticklabels=classes,\n",
        "           title=title,\n",
        "           ylabel='True label',\n",
        "           xlabel='Predicted label')\n",
        "\n",
        "    # Rotate the tick labels and set their alignment.\n",
        "    plt.setp(ax.get_xticklabels(), rotation=45, ha=\"right\",\n",
        "             rotation_mode=\"anchor\")\n",
        "    # Loop over data dimensions and create text annotations.\n",
        "    fmt = '.2f' if normalize else 'd'\n",
        "    thresh = cm.max() / 2.\n",
        "    for i in range(cm.shape[0]):\n",
        "        for j in range(cm.shape[1]):\n",
        "            ax.text(j, i, format(cm[i, j], fmt),\n",
        "                    ha=\"center\", va=\"center\",\n",
        "                    color=\"white\" if cm[i, j] > thresh else \"black\")\n",
        "    fig.tight_layout()\n",
        "    return ax\n",
        "\n",
        "np.set_printoptions(precision=2)"
      ]
    },
    {
      "cell_type": "code",
      "execution_count": 29,
      "metadata": {
        "colab": {
          "base_uri": "https://localhost:8080/",
          "height": 72
        },
        "id": "8VzBPD5lAzCd",
        "outputId": "6eaca603-31f5-41a7-d56b-8f65118a3262"
      },
      "outputs": [
        {
          "name": "stdout",
          "output_type": "stream",
          "text": [
            "4/4 [==============================] - 0s 60ms/step\n"
          ]
        },
        {
          "data": {
            "text/plain": [
              "'\"\\n#Plotting the confusion matrix\\nfrom sklearn.metrics import confusion_matrix\\nconfusion_mtx=confusion_matrix(y_true,y_pred)\\n\\nclass_names=[\\'eliu\\', \\'Desconocido\\']\\n# Plotting non-normalized confusion matrix\\nplot_confusion_matrix(y_true, y_pred, classes = class_names,title = \\'Confusion matrix, without normalization\\')\\n\\n'"
            ]
          },
          "execution_count": 29,
          "metadata": {},
          "output_type": "execute_result"
        }
      ],
      "source": [
        "\n",
        "#Making prediction\n",
        "#train_data,test_data,train_target,test_target\n",
        "\n",
        "y_pred=modelo.predict(X_test) \n",
        "y_true=np.argmax(Y_test,axis=1)\n",
        "\n",
        "\"\"\"\"\n",
        "#Plotting the confusion matrix\n",
        "from sklearn.metrics import confusion_matrix\n",
        "confusion_mtx=confusion_matrix(y_true,y_pred)\n",
        "\n",
        "class_names=['eliu', 'Desconocido']\n",
        "# Plotting non-normalized confusion matrix\n",
        "plot_confusion_matrix(y_true, y_pred, classes = class_names,title = 'Confusion matrix, without normalization')\n",
        "\n",
        "\"\"\""
      ]
    },
    {
      "attachments": {},
      "cell_type": "markdown",
      "metadata": {},
      "source": [
        "### Pruebas\n"
      ]
    },
    {
      "cell_type": "code",
      "execution_count": 1,
      "metadata": {
        "id": "e2s0nJnHGnpD"
      },
      "outputs": [],
      "source": [
        "\n",
        "from keras.models import load_model\n",
        "import cv2\n",
        "import numpy as np"
      ]
    },
    {
      "cell_type": "code",
      "execution_count": 2,
      "metadata": {},
      "outputs": [],
      "source": [
        "modelo = load_model('CNN/model-018.model')\n",
        "\n"
      ]
    },
    {
      "cell_type": "code",
      "execution_count": null,
      "metadata": {},
      "outputs": [],
      "source": [
        "from skimage.transform import resize\n",
        "import matplotlib.pyplot as plt\n",
        "face_clsfr = cv2.CascadeClassifier(cv2.data.haarcascades+'haarcascade_frontalface_default.xml')\n",
        "\n",
        "source=cv2.VideoCapture(0)\n",
        "\n",
        "source=cv2.VideoCapture('VID_20201206_001148.mp4')\n",
        "\n",
        "labels_dict={0:'eliu',1:'Desconocido'}\n",
        "color_dict={0:(0,255,0),1:(0,0,255)}\n",
        "\n",
        "while(True):\n",
        "\n",
        "    ret,img=source.read()\n",
        "    gray=cv2.cvtColor(img,cv2.COLOR_BGR2GRAY)\n",
        "    faces=face_clsfr.detectMultiScale(gray,1.3,5)  \n",
        "\n",
        "    for (x,y,w,h) in faces:\n",
        "    \n",
        "        face_img=gray[y:y+w,x:x+w]\n",
        "        resized=resize(face_img,(len(face_img),64,64,3))\n",
        "    \n",
        "        result=modelo.predict(resized)\n",
        "        label=np.argmax(result,axis=1)[0]\n",
        "        \n",
        "        cv2.putText(img,'{}'.format(label),(x,y-50),1,1.3,(86,155,35),1,cv2.LINE_AA)\n",
        "    \n",
        "        if label == 0: \n",
        "               # print(result[0][1])\n",
        "                cv2.putText(img,'{}'.format(labels_dict[label]),(x,y-25),2,1.1,(255,255,0),1,cv2.LINE_AA)\n",
        "                cv2.rectangle(img, (x,y),(x+w,y+h),(0,255,0),2)\n",
        "        #elif label == 1:\n",
        "        else:\n",
        "                cv2.putText(img,'{}'.format(labels_dict[label]),(x,y-20),2,0.8,(0,0,255),1,cv2.LINE_AA)\n",
        "                cv2.rectangle(img, (x,y),(x+w,y+h),(0,0,255),2)    \n",
        "        \n",
        "    cv2.imshow('LIVE',img)\n",
        "    key=cv2.waitKey(1)\n",
        "    \n",
        "    if(key==1):\n",
        "        break\n",
        "        \n",
        "cv2.destroyAllWindows()\n",
        "source.release()"
      ]
    }
  ],
  "metadata": {
    "colab": {
      "provenance": []
    },
    "kernelspec": {
      "display_name": "Python 3",
      "name": "python3"
    },
    "language_info": {
      "codemirror_mode": {
        "name": "ipython",
        "version": 3
      },
      "file_extension": ".py",
      "mimetype": "text/x-python",
      "name": "python",
      "nbconvert_exporter": "python",
      "pygments_lexer": "ipython3",
      "version": "3.11.3"
    }
  },
  "nbformat": 4,
  "nbformat_minor": 0
}
